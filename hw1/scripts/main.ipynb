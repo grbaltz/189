{
 "cells": [
  {
   "cell_type": "code",
   "execution_count": 2,
   "id": "ae133499-6a15-4725-b889-769923dee5e4",
   "metadata": {
    "ExecuteTime": {
     "end_time": "2024-01-23T05:44:10.684482700Z",
     "start_time": "2024-01-23T05:44:09.543663600Z"
    }
   },
   "outputs": [
    {
     "name": "stdout",
     "output_type": "stream",
     "text": [
      "\n",
      "loaded mnist data!\n",
      "test_data (10000, 1, 28, 28)\n",
      "training_data (60000, 1, 28, 28)\n",
      "training_labels (60000,)\n",
      "\n",
      "loaded spam data!\n",
      "test_data (1000, 32)\n",
      "training_data (4171, 32)\n",
      "training_labels (4171,)\n",
      "\n",
      "loaded toy data!\n",
      "test_data (0,)\n",
      "training_data (1000, 2)\n",
      "training_labels (1000,)\n"
     ]
    }
   ],
   "source": [
    "# This file is in scripts/load.py\n",
    "import sys\n",
    "if sys.version_info[0] < 3:\n",
    "    raise Exception(\"Python 3 not detected.\")\n",
    "import numpy as np\n",
    "import matplotlib.pyplot as plt\n",
    "from sklearn import svm\n",
    "from scipy import io\n",
    "from tqdm import tqdm\n",
    "if __name__ == \"__main__\":\n",
    "    for data_name in [\"mnist\", \"spam\", \"toy\"]:\n",
    "        data = np.load(f\"../data/{data_name}-data.npz\")\n",
    "        print(\"\\nloaded %s data!\" % data_name)\n",
    "        fields = \"test_data\", \"training_data\", \"training_labels\"\n",
    "        for field in fields:\n",
    "            print(field, data[field].shape)\n",
    "\n",
    "np.random.seed(10072001)"
   ]
  },
  {
   "cell_type": "code",
   "execution_count": 3,
   "id": "9689dc84-e9dd-4d0c-85bd-a7b94b76e9a4",
   "metadata": {
    "ExecuteTime": {
     "end_time": "2024-01-23T05:44:20.366495500Z",
     "start_time": "2024-01-23T05:44:20.335836800Z"
    }
   },
   "outputs": [],
   "source": [
    "def shuffle_data(data, labels):\n",
    "    p = np.random.permutation(len(data))\n",
    "    sdata, slabels = data[p], labels[p]\n",
    "    \n",
    "    return sdata, slabels"
   ]
  },
  {
   "cell_type": "code",
   "execution_count": 4,
   "id": "10df3fa4-3649-49ee-94a5-4039c92688c0",
   "metadata": {
    "ExecuteTime": {
     "end_time": "2024-01-23T05:44:20.812652500Z",
     "start_time": "2024-01-23T05:44:20.800533100Z"
    },
    "tags": []
   },
   "outputs": [],
   "source": [
    "def partition_data(data, labels, size):\n",
    "    sdata, slabels = shuffle_data(data, labels)\n",
    "    \n",
    "    tdata, tlabels = sdata[:size-1], slabels[:size-1]\n",
    "    tedata, telabels = sdata[size:], slabels[size:]\n",
    "    \n",
    "    return tdata, tlabels, tedata, telabels"
   ]
  },
  {
   "cell_type": "code",
   "execution_count": 5,
   "id": "783b8a66-8d29-4f98-b59e-76a58da064e0",
   "metadata": {
    "ExecuteTime": {
     "end_time": "2024-01-23T05:44:20.990524500Z",
     "start_time": "2024-01-23T05:44:20.965595100Z"
    }
   },
   "outputs": [],
   "source": [
    "def mnist_partition():\n",
    "    # uses set seed above to determine random shuffling\n",
    "    data = np.load(f\"../data/mnist-data.npz\")\n",
    "    mnist_data = np.copy(data[\"training_data\"])\n",
    "    mnist_labels = np.copy(data[\"training_labels\"])\n",
    "    \n",
    "    mnist_data = mnist_data.reshape(len(mnist_data), -1)\n",
    "    #mnist_labels = mnist_labels.reshape(len(mnist_labels), -1)\n",
    "\n",
    "    val_data, val_labels, train_data, train_labels = partition_data(mnist_data, mnist_labels, 10000)\n",
    "    \n",
    "    return train_data, train_labels, val_data, val_labels"
   ]
  },
  {
   "cell_type": "code",
   "execution_count": 6,
   "id": "67898405-379b-438f-8113-509e8b63b2de",
   "metadata": {
    "ExecuteTime": {
     "end_time": "2024-01-23T05:44:21.107355800Z",
     "start_time": "2024-01-23T05:44:21.099749Z"
    }
   },
   "outputs": [],
   "source": [
    "def spam_partition():\n",
    "    # repeat for spam dataset with 20%\n",
    "    data = np.load(f\"../data/spam-data.npz\")\n",
    "    spam_data = np.copy(data[\"training_data\"])\n",
    "    spam_labels = np.copy(data[\"training_labels\"])\n",
    "    \n",
    "    spam_data.reshape(len(spam_data), -1)\n",
    "\n",
    "    perc = round(len(spam_data)/5)\n",
    "    \n",
    "    val_data, val_labels, train_data, train_labels = partition_data(spam_data, spam_labels, perc)\n",
    "    \n",
    "    return train_data, train_labels, val_data, val_labels"
   ]
  },
  {
   "cell_type": "code",
   "execution_count": 7,
   "id": "5051c0e6-c996-4acf-8b2b-b1cdb7f89795",
   "metadata": {
    "ExecuteTime": {
     "end_time": "2024-01-23T05:44:21.246177400Z",
     "start_time": "2024-01-23T05:44:21.235661200Z"
    }
   },
   "outputs": [],
   "source": [
    "def accuracy(y, y_hat):\n",
    "    n = len(y)\n",
    "    accuracy = 0\n",
    "    for i in np.arange(0, n):\n",
    "        if y[i] == y_hat[i]:\n",
    "            accuracy += 1\n",
    "    return round(accuracy / n, 4)"
   ]
  },
  {
   "cell_type": "code",
   "execution_count": 8,
   "id": "92e441a5-3be8-4eef-bed7-bf4c3e687662",
   "metadata": {
    "ExecuteTime": {
     "end_time": "2024-01-23T05:44:21.412999100Z",
     "start_time": "2024-01-23T05:44:21.396897400Z"
    }
   },
   "outputs": [],
   "source": [
    "# QUESTION 4"
   ]
  },
  {
   "cell_type": "code",
   "execution_count": 9,
   "id": "20ad39a5-4bc0-4639-a387-7eaec36e68dd",
   "metadata": {
    "ExecuteTime": {
     "end_time": "2024-01-23T05:44:21.572398700Z",
     "start_time": "2024-01-23T05:44:21.557187900Z"
    }
   },
   "outputs": [],
   "source": [
    "def train_svm_mnist():\n",
    "    data, data_labels, val, val_labels = mnist_partition()\n",
    "    sizes = [100, 200, 500, 1000, 2000, 5000, 10000]\n",
    "    train_accs = []\n",
    "    val_accs = []\n",
    "    \n",
    "    for size in tqdm(sizes):\n",
    "        tdata, tlabels, tedata, telabels = partition_data(data, data_labels, size)\n",
    "    \n",
    "        clf = svm.SVC(kernel=\"linear\")\n",
    "        clf.fit(tdata, tlabels)\n",
    "        pred_labels = clf.predict(tdata)\n",
    "        pred_val_labels = clf.predict(val)\n",
    "    \n",
    "        train_acc = accuracy(tlabels, pred_labels)\n",
    "        val_acc = accuracy(val_labels, pred_val_labels)\n",
    "        train_accs.append(train_acc)\n",
    "        val_accs.append(val_acc)\n",
    "    \n",
    "    plt.plot(sizes, train_accs, label=\"Training Accuracy\")\n",
    "    plt.plot(sizes, val_accs, label=\"Validation Accuracy\")\n",
    "    plt.xlabel(\"Training Sizes\")\n",
    "    plt.ylabel(\"Accuracy\")\n",
    "    plt.legend()\n",
    "    plt.show()"
   ]
  },
  {
   "cell_type": "code",
   "execution_count": 14,
   "id": "cd388d7e-36ad-4ef6-9169-8a38b21282ef",
   "metadata": {
    "ExecuteTime": {
     "end_time": "2024-01-23T05:44:21.728257700Z",
     "start_time": "2024-01-23T05:44:21.711149400Z"
    }
   },
   "outputs": [],
   "source": [
    "def train_svm_spam():\n",
    "    data, data_labels, val, val_labels = spam_partition()\n",
    "    sizes = [100, 200, 500, 1000, 2000, len(data)]\n",
    "    train_accs = []\n",
    "    val_accs = []\n",
    "    \n",
    "    for size in tqdm(sizes):\n",
    "        tdata, tlabels, tedata, telabels = partition_data(data, data_labels, size)\n",
    "\n",
    "        clf = svm.SVC(kernel=\"linear\")\n",
    "        clf.fit(tdata, tlabels)\n",
    "        pred_labels = clf.predict(tdata)\n",
    "        pred_val_labels = clf.predict(val)\n",
    "    \n",
    "        train_acc = accuracy(tlabels, pred_labels)\n",
    "        val_acc = accuracy(val_labels, pred_val_labels)\n",
    "        train_accs.append(train_acc)\n",
    "        val_accs.append(val_acc)\n",
    "    \n",
    "    plt.plot(sizes, train_accs, label=\"Training Accuracy\")\n",
    "    plt.plot(sizes, val_accs, label=\"Validation Accuracy\")\n",
    "    plt.xlabel(\"Training Sizes\")\n",
    "    plt.ylabel(\"Accuracy\")\n",
    "    plt.legend()\n",
    "    plt.show()"
   ]
  },
  {
   "cell_type": "code",
   "execution_count": 11,
   "id": "0b6bfdd0-d36e-4f8c-8338-42dabaa8847d",
   "metadata": {
    "ExecuteTime": {
     "end_time": "2024-01-23T07:05:20.868548700Z",
     "start_time": "2024-01-23T07:05:20.849207700Z"
    },
    "tags": []
   },
   "outputs": [],
   "source": [
    "def c_manipulation():\n",
    "    d = np.load(f\"../data/mnist-data.npz\")\n",
    "    data = d[\"training_data\"]\n",
    "    labels = d[\"training_labels\"]\n",
    "    data = data.reshape(len(data), -1)\n",
    "    size = 10000\n",
    "    results = []\n",
    "    sees = [.001, .0005, .0001, .00005, .00001, .000005, .000001, .0000001]\n",
    "\n",
    "    tdata, tlabels, val, val_labels = mnist_partition()\n",
    "    tdata, tlabels, tedata, telabels = partition_data(tdata, tlabels, size)\n",
    "    \n",
    "    for c in tqdm(sees):\n",
    "        # fit on full data set including validation data\n",
    "        clf = svm.SVC(C=c, kernel=\"linear\")\n",
    "        clf.fit(tdata, tlabels)\n",
    "        \n",
    "        pred_val_labels = clf.predict(val)\n",
    "\n",
    "        out = [c, accuracy(val_labels, pred_val_labels)]\n",
    "        results.append(out)\n",
    "\n",
    "    return results\n",
    "\n",
    "# BEST RESULT C = 1e-6 and size = 10,000, ACC = .932\n",
    "# BEST RESULT C = 1e-6 and size = 20,000, ACC = .9417"
   ]
  },
  {
   "cell_type": "code",
   "execution_count": 12,
   "id": "99e73da4-ddbb-4612-9d6a-052afe05441b",
   "metadata": {
    "ExecuteTime": {
     "end_time": "2024-01-23T07:06:56.529797100Z",
     "start_time": "2024-01-23T07:05:21.433072Z"
    }
   },
   "outputs": [
    {
     "name": "stderr",
     "output_type": "stream",
     "text": [
      "100%|██████████| 8/8 [02:00<00:00, 15.02s/it]\n"
     ]
    },
    {
     "data": {
      "text/plain": [
       "[[0.001, 0.9083],\n",
       " [0.0005, 0.9083],\n",
       " [0.0001, 0.9086],\n",
       " [5e-05, 0.9096],\n",
       " [1e-05, 0.9154],\n",
       " [5e-06, 0.9209],\n",
       " [1e-06, 0.9272],\n",
       " [1e-07, 0.9218]]"
      ]
     },
     "execution_count": 12,
     "metadata": {},
     "output_type": "execute_result"
    }
   ],
   "source": [
    "c_manipulation()"
   ]
  },
  {
   "cell_type": "code",
   "execution_count": 13,
   "id": "44fc4b06-433a-4276-af56-d86e45bbc289",
   "metadata": {
    "ExecuteTime": {
     "end_time": "2024-01-23T06:53:44.958671400Z",
     "start_time": "2024-01-23T06:53:44.946456100Z"
    }
   },
   "outputs": [],
   "source": [
    "def spam_c_manipulation():\n",
    "    data = np.load(f\"../data/spam-data.npz\")\n",
    "    spam_data = np.copy(data[\"training_data\"])\n",
    "    spam_labels = np.copy(data[\"training_labels\"])\n",
    "\n",
    "    spam_data.reshape(len(spam_data), -1)\n",
    "\n",
    "    #sees = [1, .5, .1, .05, .01, .005, .001, .0001]\n",
    "    sees = [1, 2, 5, 10, 25, 50]\n",
    "    results = []\n",
    "\n",
    "    sd, sl = shuffle_data(spam_data, spam_labels)\n",
    "\n",
    "    chunk = round(len(sd)/5)\n",
    "\n",
    "    for c in tqdm(sees):\n",
    "        accs = []\n",
    "        for i in np.arange(5):\n",
    "            # sd[i] becomes val data, rest becomes training\n",
    "            val = sd[chunk*i:chunk*(i+1)]\n",
    "            val_labels = sl[chunk*i:chunk*(i+1)]\n",
    "\n",
    "            train = np.concatenate([sd[:chunk*i], sd[chunk*(i+1):]], axis=0)\n",
    "            train_labels = np.concatenate([sl[:chunk*i], sl[chunk*(i+1):]], axis=0)\n",
    "\n",
    "            clf = svm.SVC(C=c, kernel=\"linear\")\n",
    "            clf.fit(train, train_labels)\n",
    "            pred_val_labels = clf.predict(val)\n",
    "            acc = accuracy(val_labels, pred_val_labels)\n",
    "\n",
    "            accs.append(acc)\n",
    "\n",
    "        avg_acc = round(np.mean(accs), 4)\n",
    "        results.append([c, avg_acc])\n",
    "\n",
    "    return results\n",
    "\n",
    "## BEST RESULT IS C = 10 with acc .8036"
   ]
  },
  {
   "cell_type": "code",
   "execution_count": 14,
   "id": "7f4aebdb",
   "metadata": {
    "ExecuteTime": {
     "end_time": "2024-01-23T06:57:19.178974700Z",
     "start_time": "2024-01-23T06:53:45.049210200Z"
    },
    "collapsed": false,
    "jupyter": {
     "outputs_hidden": false
    }
   },
   "outputs": [
    {
     "name": "stderr",
     "output_type": "stream",
     "text": [
      "100%|██████████| 6/6 [02:46<00:00, 27.75s/it]\n"
     ]
    },
    {
     "data": {
      "text/plain": [
       "[[1, 0.8019],\n",
       " [2, 0.8019],\n",
       " [5, 0.8019],\n",
       " [10, 0.8019],\n",
       " [25, 0.8034],\n",
       " [50, 0.8027]]"
      ]
     },
     "execution_count": 14,
     "metadata": {},
     "output_type": "execute_result"
    }
   ],
   "source": [
    "spam_c_manipulation()"
   ]
  },
  {
   "cell_type": "code",
   "execution_count": 22,
   "id": "048b24f4",
   "metadata": {
    "ExecuteTime": {
     "end_time": "2024-01-23T07:23:41.602480Z",
     "start_time": "2024-01-23T07:23:07.682792600Z"
    },
    "collapsed": false,
    "jupyter": {
     "outputs_hidden": false
    }
   },
   "outputs": [],
   "source": [
    "from save_csv import results_to_csv\n",
    "\n",
    "d = np.load(f\"../data/mnist-data.npz\")\n",
    "data = d[\"training_data\"]\n",
    "labels = d[\"training_labels\"]\n",
    "test = d[\"test_data\"]\n",
    "\n",
    "data = data.reshape(len(data), -1)\n",
    "test = test.reshape(len(test), -1)\n",
    "\n",
    "size = 20000\n",
    "\n",
    "tdata, tlabels, val, val_labels = mnist_partition()\n",
    "tdata, tlabels, tedata, telabels = partition_data(tdata, tlabels, size)\n",
    "\n",
    "clf = svm.SVC(C=.000001, kernel=\"linear\")\n",
    "clf.fit(tdata, tlabels)\n",
    "\n",
    "results_to_csv(clf.predict(test))"
   ]
  },
  {
   "cell_type": "code",
   "execution_count": 21,
   "id": "8b7233f3",
   "metadata": {
    "ExecuteTime": {
     "end_time": "2024-01-23T07:26:24.773569600Z",
     "start_time": "2024-01-23T07:26:22.683067600Z"
    },
    "collapsed": false,
    "jupyter": {
     "outputs_hidden": false
    }
   },
   "outputs": [],
   "source": [
    "from save_csv import results_to_csv\n",
    "\n",
    "data = np.load(f\"../data/spam-data.npz\")\n",
    "test = data[\"test_data\"]\n",
    "\n",
    "test = test.reshape(len(test), -1)\n",
    "\n",
    "data, labels, val, val_labels = spam_partition()\n",
    "\n",
    "clf = svm.SVC(C=10, kernel=\"linear\")\n",
    "clf.fit(data, labels)\n",
    "\n",
    "results_to_csv(clf.predict(test))"
   ]
  },
  {
   "cell_type": "code",
   "execution_count": null,
   "id": "021304fb",
   "metadata": {
    "collapsed": false,
    "jupyter": {
     "outputs_hidden": false
    }
   },
   "outputs": [],
   "source": []
  }
 ],
 "metadata": {
  "kernelspec": {
   "display_name": "Python 3 (ipykernel)",
   "language": "python",
   "name": "python3"
  },
  "language_info": {
   "codemirror_mode": {
    "name": "ipython",
    "version": 3
   },
   "file_extension": ".py",
   "mimetype": "text/x-python",
   "name": "python",
   "nbconvert_exporter": "python",
   "pygments_lexer": "ipython3",
   "version": "3.9.7"
  }
 },
 "nbformat": 4,
 "nbformat_minor": 5
}
