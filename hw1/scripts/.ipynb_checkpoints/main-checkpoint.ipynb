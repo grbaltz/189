{
 "cells": [
  {
   "cell_type": "code",
   "execution_count": 2,
   "id": "ae133499-6a15-4725-b889-769923dee5e4",
   "metadata": {},
   "outputs": [
    {
     "name": "stdout",
     "output_type": "stream",
     "text": [
      "\n",
      "loaded mnist data!\n",
      "test_data (10000, 1, 28, 28)\n",
      "training_data (60000, 1, 28, 28)\n",
      "training_labels (60000,)\n",
      "\n",
      "loaded spam data!\n",
      "test_data (1000, 32)\n",
      "training_data (4171, 32)\n",
      "training_labels (4171,)\n",
      "\n",
      "loaded toy data!\n",
      "test_data (0,)\n",
      "training_data (1000, 2)\n",
      "training_labels (1000,)\n"
     ]
    }
   ],
   "source": [
    "# This file is in scripts/load.py\n",
    "import sys\n",
    "if sys.version_info[0] < 3:\n",
    "    raise Exception(\"Python 3 not detected.\")\n",
    "import numpy as np\n",
    "import matplotlib.pyplot as plt\n",
    "from sklearn import svm\n",
    "from scipy import io\n",
    "from tqdm import tqdm\n",
    "if __name__ == \"__main__\":\n",
    "    for data_name in [\"mnist\", \"spam\", \"toy\"]:\n",
    "        data = np.load(f\"../data/{data_name}-data.npz\")\n",
    "        print(\"\\nloaded %s data!\" % data_name)\n",
    "        fields = \"test_data\", \"training_data\", \"training_labels\"\n",
    "        for field in fields:\n",
    "            print(field, data[field].shape)\n",
    "\n",
    "np.random.seed(10072001)"
   ]
  },
  {
   "cell_type": "code",
   "execution_count": 3,
   "id": "9689dc84-e9dd-4d0c-85bd-a7b94b76e9a4",
   "metadata": {},
   "outputs": [],
   "source": [
    "def shuffle_data(data, labels):\n",
    "    p = np.random.permutation(len(data))\n",
    "    sdata, slabels = data[p], labels[p]\n",
    "    \n",
    "    return sdata, slabels"
   ]
  },
  {
   "cell_type": "code",
   "execution_count": 4,
   "id": "10df3fa4-3649-49ee-94a5-4039c92688c0",
   "metadata": {
    "tags": []
   },
   "outputs": [],
   "source": [
    "def partition_data(data, labels, size):\n",
    "    sdata, slabels = shuffle_data(data, labels)\n",
    "    \n",
    "    tdata, tlabels = sdata[:size-1], slabels[:size-1]\n",
    "    tedata, telabels = sdata[size:], slabels[size:]\n",
    "    \n",
    "    return tdata, tlabels, tedata, telabels"
   ]
  },
  {
   "cell_type": "code",
   "execution_count": 5,
   "id": "783b8a66-8d29-4f98-b59e-76a58da064e0",
   "metadata": {},
   "outputs": [],
   "source": [
    "def mnist_partition():\n",
    "    # uses set seed above to determine random shuffling\n",
    "    data = np.load(f\"../data/mnist-data.npz\")\n",
    "    mnist_data = np.copy(data[\"training_data\"])\n",
    "    mnist_labels = np.copy(data[\"training_labels\"])\n",
    "    \n",
    "    mnist_data = mnist_data.reshape(len(mnist_data), -1)\n",
    "    #mnist_labels = mnist_labels.reshape(len(mnist_labels), -1)\n",
    "\n",
    "    val_data, val_labels, train_data, train_labels = partition_data(mnist_data, mnist_labels, 10000)\n",
    "    \n",
    "    return train_data, train_labels, val_data, val_labels"
   ]
  },
  {
   "cell_type": "code",
   "execution_count": 6,
   "id": "67898405-379b-438f-8113-509e8b63b2de",
   "metadata": {},
   "outputs": [],
   "source": [
    "def spam_partition():\n",
    "    # repeat for spam dataset with 20%\n",
    "    data = np.load(f\"../data/spam-data.npz\")\n",
    "    spam_data = np.copy(data[\"training_data\"])\n",
    "    spam_labels = np.copy(data[\"training_labels\"])\n",
    "    \n",
    "    spam_data.reshape(len(spam_data), -1)\n",
    "    #spam_labels.flatten(len(spam_labels), -1)\n",
    "\n",
    "    perc = round(len(spam_data)/5)\n",
    "    \n",
    "    val_data, val_labels, train_data, train_labels = partition_data(spam_data, spam_labels, perc)\n",
    "    \n",
    "    return train_data, train_labels, val_data, val_labels"
   ]
  },
  {
   "cell_type": "code",
   "execution_count": 7,
   "id": "5051c0e6-c996-4acf-8b2b-b1cdb7f89795",
   "metadata": {},
   "outputs": [],
   "source": [
    "def accuracy(y, y_hat):\n",
    "    n = len(y)\n",
    "    accuracy = 0\n",
    "    for i in np.arange(0, n):\n",
    "        if y[i] == y_hat[i]:\n",
    "            accuracy += 1\n",
    "    return round(accuracy / n, 4)"
   ]
  },
  {
   "cell_type": "code",
   "execution_count": 8,
   "id": "92e441a5-3be8-4eef-bed7-bf4c3e687662",
   "metadata": {},
   "outputs": [],
   "source": [
    "# QUESTION 4"
   ]
  },
  {
   "cell_type": "code",
   "execution_count": 9,
   "id": "20ad39a5-4bc0-4639-a387-7eaec36e68dd",
   "metadata": {},
   "outputs": [],
   "source": [
    "def train_svm_mnist():\n",
    "    data, data_labels, val, val_labels = mnist_partition()\n",
    "    sizes = [100, 200, 500, 1000, 2000, 5000, 10000]\n",
    "    train_accs = []\n",
    "    val_accs = []\n",
    "    \n",
    "    for size in tqdm(sizes):\n",
    "        tdata, tlabels, tedata, telabels = partition_data(data, data_labels, size)\n",
    "    \n",
    "        clf = svm.SVC(kernel=\"linear\")\n",
    "        clf.fit(tdata, tlabels)\n",
    "        pred_labels = clf.predict(tdata)\n",
    "        pred_val_labels = clf.predict(val)\n",
    "    \n",
    "        train_acc = accuracy(tlabels, pred_labels)\n",
    "        val_acc = accuracy(val_labels, pred_val_labels)\n",
    "        train_accs.append(train_acc)\n",
    "        val_accs.append(val_acc)\n",
    "    \n",
    "    plt.plot(sizes, train_accs, label=\"Training Accuracy\")\n",
    "    plt.plot(sizes, val_accs, label=\"Validation Accuracy\")\n",
    "    plt.xlabel(\"Training Sizes\")\n",
    "    plt.ylabel(\"Accuracy\")\n",
    "    plt.legend()\n",
    "    plt.show()"
   ]
  },
  {
   "cell_type": "code",
   "execution_count": 10,
   "id": "cd388d7e-36ad-4ef6-9169-8a38b21282ef",
   "metadata": {},
   "outputs": [],
   "source": [
    "def train_svm_spam():\n",
    "    data, data_labels, val, val_labels = spam_partition()\n",
    "    sizes = [100, 200, 500, 1000, 2000, len(data)]\n",
    "    train_accs = []\n",
    "    val_accs = []\n",
    "    \n",
    "    for size in tqdm(sizes):\n",
    "        tdata, tlabels, tedata, telabels = partition_data(data, data_labels, size)\n",
    "\n",
    "        clf = svm.SVC(kernel=\"linear\")\n",
    "        clf.fit(tdata, tlabels)\n",
    "        pred_labels = clf.predict(tdata)\n",
    "        pred_val_labels = clf.predict(val)\n",
    "    \n",
    "        train_acc = accuracy(tlabels, pred_labels)\n",
    "        val_acc = accuracy(val_labels, pred_val_labels)\n",
    "        train_accs.append(train_acc)\n",
    "        val_accs.append(val_acc)\n",
    "    \n",
    "    plt.plot(sizes, train_accs, label=\"Training Accuracy\")\n",
    "    plt.plot(sizes, val_accs, label=\"Validation Accuracy\")\n",
    "    plt.xlabel(\"Training Sizes\")\n",
    "    plt.ylabel(\"Accuracy\")\n",
    "    plt.legend()\n",
    "    plt.show()"
   ]
  },
  {
   "cell_type": "code",
   "execution_count": 24,
   "id": "0b6bfdd0-d36e-4f8c-8338-42dabaa8847d",
   "metadata": {
    "tags": []
   },
   "outputs": [],
   "source": [
    "def c_manipulation():\n",
    "    d = np.load(f\"../data/mnist-data.npz\")\n",
    "    #data = d[\"training_data\"]\n",
    "    #labels = d[\"training_labels\"]\n",
    "    #data = data.reshape(len(data), -1)\n",
    "    size = 10000\n",
    "    results = []\n",
    "    #sees = [.001, .0005, .0001, .00005, .00001, .000005, .000001, .0000001]\n",
    "    #sees = [.001]\n",
    "    \n",
    "    data, labels, val, val_labels = mnist_partition()\n",
    "    tdata, tlabels, tedata, telabels = partition_data(data, labels, size)\n",
    "    \n",
    "    clf = svm.SVC(C=.0001, kernel=\"linear\")\n",
    "    clf.fit(data, labels)\n",
    "    pred_val_labels = clf.predict(val)\n",
    "    \n",
    "    out = [.0001, accuracy(val_labels, pred_val_labels)]\n",
    "    results.append(out)\n",
    "    \n",
    "#     for c in tqdm(sees):\n",
    "#         # fit on full data set including validation data\n",
    "#         clf = svm.SVC(C=c, kernel=\"linear\")\n",
    "#         clf.fit(data, labels)\n",
    "        \n",
    "#         tdata, tlabels, val, val_labels = mnist_partition()\n",
    "#         tdata, tlabels, tedata, telabels = partition_data(tdata, tlabels, size)\n",
    "        \n",
    "#         pred_val_labels = clf.predict(val)\n",
    "\n",
    "#         out = [c, accuracy(tlabels, pred_labels), accuracy(val_labels, pred_val_labels)]\n",
    "#         results.append(out)\n",
    "\n",
    "    return results"
   ]
  },
  {
   "cell_type": "code",
   "execution_count": 25,
   "id": "99e73da4-ddbb-4612-9d6a-052afe05441b",
   "metadata": {},
   "outputs": [
    {
     "data": {
      "text/plain": [
       "[[0.0001, 0.9308]]"
      ]
     },
     "execution_count": 25,
     "metadata": {},
     "output_type": "execute_result"
    }
   ],
   "source": [
    "c_manipulation()"
   ]
  },
  {
   "cell_type": "code",
   "execution_count": null,
   "id": "44fc4b06-433a-4276-af56-d86e45bbc289",
   "metadata": {},
   "outputs": [],
   "source": []
  }
 ],
 "metadata": {
  "kernelspec": {
   "display_name": "Python 3 (ipykernel)",
   "language": "python",
   "name": "python3"
  },
  "language_info": {
   "codemirror_mode": {
    "name": "ipython",
    "version": 3
   },
   "file_extension": ".py",
   "mimetype": "text/x-python",
   "name": "python",
   "nbconvert_exporter": "python",
   "pygments_lexer": "ipython3",
   "version": "3.9.7"
  }
 },
 "nbformat": 4,
 "nbformat_minor": 5
}
